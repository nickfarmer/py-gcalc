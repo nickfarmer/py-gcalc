{
 "cells": [
  {
   "cell_type": "markdown",
   "metadata": {},
   "source": [
    "This program will take the composition of coexisting olivine and willemite (expressed as XZn, mole fraction Zn), and use the thermodynamic parameters for DeltaG willemite=olivine for end-member Zn2SiO4 and Mg2SiO4 that have been fit to experimental data to estimate sample pressure or pressure and temperature."
   ]
  },
  {
   "cell_type": "code",
   "execution_count": 1,
   "metadata": {},
   "outputs": [],
   "source": [
    "import math\n",
    "import pandas as pd\n",
    "import scipy.optimize as optimize"
   ]
  },
  {
   "cell_type": "markdown",
   "metadata": {},
   "source": [
    "First, calculate DeltaG/RT for each reaction from the composition data. This includes Margules parameters (W) for each phase. This requires a value for temperature."
   ]
  },
  {
   "cell_type": "code",
   "execution_count": 2,
   "metadata": {},
   "outputs": [],
   "source": [
    "def olwicompG(ol,wi,Wmg,Wzn,T):\n",
    "    GRTzn=-math.log(ol/wi)+Wzn/(8.3144598*T)*math.pow((1-wi),2)+Wmg/(8.3144598*T)*math.pow((1-ol),2)\n",
    "    GRTmg=-math.log((1-ol)/(1-wi))+Wzn/(8.3144598*T)*math.pow((wi),2)+Wmg/(8.3144598*T)*math.pow((ol),2)\n",
    "    return [GRTzn, GRTmg]"
   ]
  },
  {
   "cell_type": "markdown",
   "metadata": {},
   "source": [
    "We can test this by calculating DeltaG/RT from EPMA data from the 3 GPa, 1325 °C piston-cylinder experiment. "
   ]
  },
  {
   "cell_type": "code",
   "execution_count": 26,
   "metadata": {},
   "outputs": [
    {
     "name": "stdout",
     "output_type": "stream",
     "text": [
      "[1.048658792417096, -1.132349912370885]\n"
     ]
    }
   ],
   "source": [
    "print(olwicompG(0.267711892,0.764001815,0,0,1373))"
   ]
  },
  {
   "cell_type": "markdown",
   "metadata": {},
   "source": [
    "Now we need a function to find DeltaG/RT at conditions P,T using the Holland & Powell (2011) style model, using the parameters fit to the model by least squares regression. We can use those defined previously."
   ]
  },
  {
   "cell_type": "code",
   "execution_count": 4,
   "metadata": {},
   "outputs": [],
   "source": [
    "def HtminusH(phase,T):\n",
    "    return float(hpdata.loc[phase,'CpA'])*(T-298.15)+0.5*float(hpdata.loc[phase,'CpB'])*(T*T-298.15*298.15)-float(hpdata.loc[phase,'CpC'])*(1/T-1/298.15)+2*float(hpdata.loc[phase,'CpD'])*(math.sqrt(T)-math.sqrt(298.15))\n",
    "\n",
    "def StminusS(phase,T):\n",
    "    return 1000*(float(hpdata.loc[phase,'CpA'])*math.log(T/298.15)+float(hpdata.loc[phase,'CpB'])*(T-298.15)-0.5*float(hpdata.loc[phase,'CpC'])*(1/(T*T)-1/(298.15*298.15))-2*float(hpdata.loc[phase,'CpD'])*(1/math.sqrt(T)-1/math.sqrt(298.15)))\n",
    "\n",
    "def GTP0(phase,T):\n",
    "    return ((float(hpdata.loc[phase,'H0'])+HtminusH(phase,T))*1000)-(((float(hpdata.loc[phase,'S0']))*1000)+StminusS(phase,T))*T\n",
    "\n",
    "def EOSa(phase,P):\n",
    "     return (1+float(hpdata.loc[phase, 'kprime0']))/((1+float(hpdata.loc[phase, 'kprime0'])+(float(hpdata.loc[phase, 'k0'])*float(hpdata.loc[phase, 'kdprime0']))))\n",
    "\n",
    "def EOSb(phase,P):\n",
    "     return (float(hpdata.loc[phase, 'kprime0'])/float(hpdata.loc[phase, 'k0']))-float(hpdata.loc[phase, 'kdprime0'])/(1+float(hpdata.loc[phase, 'kprime0']))\n",
    "\n",
    "def EOSc(phase,P):\n",
    "     return (1+float(hpdata.loc[phase, 'kprime0'])+float(hpdata.loc[phase, 'k0'])*float(hpdata.loc[phase, 'kdprime0']))/(float(hpdata.loc[phase, 'kprime0'])*float(hpdata.loc[phase, 'kprime0'])+float(hpdata.loc[phase, 'kprime0'])-float(hpdata.loc[phase, 'k0'])*float(hpdata.loc[phase, 'kdprime0']))\n",
    "\n",
    "def Pth(phase,T):\n",
    "    theta=10636/(((float(hpdata.loc[phase, 'S0'])*1000)/float(hpdata.loc[phase, 'atoms']))+6.44)\n",
    "    xi0=(theta/298.15)*(theta/298.15)*math.exp(theta/298.15)/((math.exp(theta/298.15)-1)*(math.exp(theta/298.15)-1))\n",
    "    Pthermal=float(hpdata.loc[phase, 'alpha0'])*float(hpdata.loc[phase, 'k0'])*theta/xi0*(1/(math.exp(theta/T)-1)-1/(math.exp(theta/298.15)-1))\n",
    "    return(Pthermal)\n",
    "\n",
    "def V(phase,P,T):\n",
    "    return float(hpdata.loc[phase, 'V0'])*(1-EOSa(phase,P)*(1-math.pow((1+EOSb(phase,P)*(P-Pth(phase,T))),(-EOSc(phase,P)))))\n",
    "\n",
    "def PVcorr(phase,P,T):\n",
    "    return 1-EOSa(phase,P)+(EOSa(phase,P)*(math.pow((1-EOSb(phase,P)*Pth(phase,T)),(1-EOSc(phase,P)))-math.pow((1+EOSb(phase,P)*(P-Pth(phase,T))),(1-EOSc(phase,P))))/(EOSb(phase,P)*(EOSc(phase,P)-1)*P))\n",
    "\n",
    "def GPTminusGP0T(phase,P,T):\n",
    "    return PVcorr(phase,P,T)*P*float(hpdata.loc[phase, 'V0'])\n",
    "\n",
    "def GPT(phase,P,T):\n",
    "    return GTP0(phase,T)+GPTminusGP0T(phase,P,T)*1000\n",
    "\n",
    "# reactant = phase1, product = phase2 \n",
    "\n",
    "def DeltaGPT(phase1,phase2,P,T):\n",
    "    return GPT(phase2,P,T)-GPT(phase1,P,T)\n",
    "\n",
    "def DeltaGPTRT(phase1,phase2,P,T):\n",
    "    return DeltaGPT(phase1,phase2,P,T)/(8.3144598*T)"
   ]
  },
  {
   "cell_type": "markdown",
   "metadata": {},
   "source": [
    "For this to work, we should have our thermodynamic parameters in a pandas dataframe called 'hpdata' (can modify this). In the previous script, this was generated by reading the datafile provided by Holland & Powell, but for this example we can use a csv file that contains thermodyamic data for the relevant phases."
   ]
  },
  {
   "cell_type": "code",
   "execution_count": 5,
   "metadata": {},
   "outputs": [],
   "source": [
    "hpdata=pd.read_csv('mgzn_thermo_fit.csv', index_col=\"phase\")\n",
    "\n",
    "# Put S data into kJ/mol rather than J/mol\n",
    "hpdata.S0=hpdata.S0/1000\n"
   ]
  },
  {
   "cell_type": "markdown",
   "metadata": {},
   "source": [
    "Check vales at 1373 K, 1 GPa against the excel spreadsheet:"
   ]
  },
  {
   "cell_type": "code",
   "execution_count": 6,
   "metadata": {},
   "outputs": [
    {
     "name": "stdout",
     "output_type": "stream",
     "text": [
      "-2409510.8988951133\n",
      "-2400065.406796808\n",
      "-1918412.7966396334\n",
      "-1903410.358794706\n",
      "-9445.492098305374\n",
      "-0.8274085682840894\n",
      "15002.437844927423\n",
      "1.3141872851992003\n"
     ]
    }
   ],
   "source": [
    "print(GPT('fo',10,1373))\n",
    "print(GPT('mgwi',10,1373))\n",
    "print(GPT('wi',10,1373))\n",
    "print(GPT('znol',10,1373))\n",
    "\n",
    "print(DeltaGPT('mgwi','fo',10,1373))\n",
    "print(DeltaGPTRT('mgwi','fo',10,1373))\n",
    "print(DeltaGPT('wi','znol',10,1373))\n",
    "print(DeltaGPTRT('wi','znol',10,1373))"
   ]
  },
  {
   "cell_type": "code",
   "execution_count": 7,
   "metadata": {},
   "outputs": [],
   "source": [
    "def residualolwi(P,T,ol,wi,Wmg,Wzn):\n",
    "    return [(DeltaGPTRT('wi','znol',P,T)-olwicompG(ol,wi,Wmg,Wzn,T)[0]),(DeltaGPTRT('mgwi','fo',P,T)-olwicompG(ol,wi,Wmg,Wzn,T)[1])]"
   ]
  },
  {
   "cell_type": "code",
   "execution_count": 43,
   "metadata": {},
   "outputs": [
    {
     "data": {
      "text/plain": [
       "[0.2655284927821042, 0.3049413440867955]"
      ]
     },
     "execution_count": 43,
     "metadata": {},
     "output_type": "execute_result"
    }
   ],
   "source": [
    "residualolwi(10,1373,0.267711892,0.764001815,0,0)"
   ]
  },
  {
   "cell_type": "code",
   "execution_count": 44,
   "metadata": {},
   "outputs": [],
   "source": [
    "def leastsquaresPTolwi(PTguess,ol,wi,Wmg,Wzn):\n",
    "    def olwisumsq(PTguess,ol,wi,Wmg,Wzn):\n",
    "        P,T=PTguess\n",
    "        return math.pow(residualolwi(P,T,ol,wi,Wmg,Wzn)[0],2)+math.pow(residualolwi(P,T,ol,wi,Wmg,Wzn)[1],2)\n",
    "    return optimize.minimize(olwisumsq, PTguess, args=(ol, wi, Wmg, Wzn), method='Nelder-Mead')\n",
    "\n",
    "def leastsquareszn(PTguess,ol,wi,Wmg,Wzn):\n",
    "    def sumsqzn(PTguess,ol,wi,Wmg,Wzn):\n",
    "        P,T=PTguess\n",
    "        return math.pow(residualolwi(P,T,ol,wi,Wmg,Wzn)[0],2)\n",
    "    return optimize.minimize(sumsqzn, PTguess, args=(ol, wi, Wmg, Wzn), method='Nelder-Mead')\n",
    "\n",
    "def leastsquaresmg(PTguess,ol,wi,Wmg,Wzn):\n",
    "    def sumsqmg(PTguess,ol,wi,Wmg,Wzn):\n",
    "        P,T=PTguess\n",
    "        return math.pow(residualolwi(P,T,ol,wi,Wmg,Wzn)[1],2)\n",
    "    return optimize.minimize(sumsqmg, PTguess, args=(ol, wi, Wmg, Wzn), method='Nelder-Mead')"
   ]
  },
  {
   "cell_type": "code",
   "execution_count": 46,
   "metadata": {},
   "outputs": [
    {
     "name": "stdout",
     "output_type": "stream",
     "text": [
      " final_simplex: (array([[  30.93566261, 1178.92351792],\n",
      "       [  30.93566953, 1178.92345723],\n",
      "       [  30.93566271, 1178.92348998]]), array([1.57245014e-15, 3.79308771e-15, 4.98757011e-15]))\n",
      "           fun: 1.5724501430874928e-15\n",
      "       message: 'Optimization terminated successfully.'\n",
      "          nfev: 96\n",
      "           nit: 49\n",
      "        status: 0\n",
      "       success: True\n",
      "             x: array([  30.93566261, 1178.92351792])\n",
      " final_simplex: (array([[  29.64483793, 1188.30775589],\n",
      "       [  29.64483284, 1188.30779645],\n",
      "       [  29.64484811, 1188.30767488]]), array([6.02011804e-26, 2.98003165e-25, 3.04952376e-25]))\n",
      "           fun: 6.020118042484287e-26\n",
      "       message: 'Optimization terminated successfully.'\n",
      "          nfev: 135\n",
      "           nit: 70\n",
      "        status: 0\n",
      "       success: True\n",
      "             x: array([  29.64483793, 1188.30775589])\n",
      " final_simplex: (array([[  30.6148603 , 1182.99665709],\n",
      "       [  30.61486354, 1182.99661557],\n",
      "       [  30.61486516, 1182.99659479]]), array([4.73809581e-29, 4.00470169e-27, 1.23259516e-26]))\n",
      "           fun: 4.738095811983702e-29\n",
      "       message: 'Optimization terminated successfully.'\n",
      "          nfev: 148\n",
      "           nit: 78\n",
      "        status: 0\n",
      "       success: True\n",
      "             x: array([  30.6148603 , 1182.99665709])\n",
      "Pressure: 30.935662613740703 kbar Temperature 905.9235179241621 °C\n"
     ]
    }
   ],
   "source": [
    "PTfitboth=leastsquaresPTolwi([30,1373],0.359663585,0.840529523,0,0)\n",
    "print(PTfitboth)\n",
    "PTfitzn=leastsquareszn([30,1373],0.359663585,0.840529523,0,0)\n",
    "PTfitmg=leastsquaresmg([30,1373],0.359663585,0.840529523,0,0)\n",
    "print(PTfitzn)\n",
    "print(PTfitmg)\n",
    "print('Pressure:', PTfitboth.x[0], 'kbar', 'Temperature', PTfitboth.x[1]-273, '°C')"
   ]
  },
  {
   "cell_type": "markdown",
   "metadata": {},
   "source": [
    "For the olivine/willemite pressure standard, there is not much good data on temperature dependence on XZn. It is useful to be able to fix temperature at the value recorded by the thermocouple, and to allow only P to be fit."
   ]
  },
  {
   "cell_type": "code",
   "execution_count": 23,
   "metadata": {},
   "outputs": [],
   "source": [
    "def leastsquaresPolwi(Pguess,T,ol,wi,Wmg,Wzn):\n",
    "    def olwisumsq(P,T,ol,wi,Wmg,Wzn):\n",
    "        return math.pow(residualolwi(P,T,ol,wi,Wmg,Wzn)[0],2)+math.pow(residualolwi(P,T,ol,wi,Wmg,Wzn)[1],2)\n",
    "    return optimize.minimize(olwisumsq, x0=Pguess, args=(T,ol,wi,Wmg,Wzn))"
   ]
  },
  {
   "cell_type": "markdown",
   "metadata": {},
   "source": [
    "We can test this against the experimental data for 1325 °C, 30 kbar."
   ]
  },
  {
   "cell_type": "code",
   "execution_count": 25,
   "metadata": {
    "scrolled": true
   },
   "outputs": [
    {
     "name": "stdout",
     "output_type": "stream",
     "text": [
      "Pressure: 14.8974359118015 kbar\n"
     ]
    }
   ],
   "source": [
    "Pfit=leastsquaresPolwi(30,1598,0.387004994,0.894547358,0,0)\n",
    "print('Pressure:', Pfit.x[0], 'kbar')"
   ]
  },
  {
   "cell_type": "code",
   "execution_count": null,
   "metadata": {},
   "outputs": [],
   "source": []
  }
 ],
 "metadata": {
  "kernelspec": {
   "display_name": "Python 3",
   "language": "python",
   "name": "python3"
  },
  "language_info": {
   "codemirror_mode": {
    "name": "ipython",
    "version": 3
   },
   "file_extension": ".py",
   "mimetype": "text/x-python",
   "name": "python",
   "nbconvert_exporter": "python",
   "pygments_lexer": "ipython3",
   "version": "3.6.4"
  }
 },
 "nbformat": 4,
 "nbformat_minor": 2
}
