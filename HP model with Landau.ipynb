{
 "cells": [
  {
   "cell_type": "code",
   "execution_count": 1,
   "metadata": {},
   "outputs": [],
   "source": [
    "import pandas as pd\n",
    "import numpy as np\n",
    "import math\n",
    "import scipy.optimize as optimize\n",
    "import matplotlib.pyplot as plt"
   ]
  },
  {
   "cell_type": "markdown",
   "metadata": {},
   "source": [
    "As in simple model, read in data as a pandas dataframe. This time, we also need Smax, Vmax and Tc. These are the maximum contribution of the 2nd order phase transition to S and V, and the critical temperature for the phase transition at P=0. "
   ]
  },
  {
   "cell_type": "code",
   "execution_count": 2,
   "metadata": {},
   "outputs": [],
   "source": [
    "filename=\"/home/nick/tc340/mac-version 4/tc-ds62.txt\"\n",
    "\n",
    "hpdata=[]\n",
    "alldata=[]\n",
    "names=[]\n",
    "atoms=[]\n",
    "\n",
    "with open(filename) as datafile:\n",
    "    lines=datafile.readlines()\n",
    "    for i in range(0, len(lines)-3):\n",
    "        nameline=lines[i]\n",
    "        stpline=lines[i+1]\n",
    "        cpline=lines[i+2]\n",
    "        akline=lines[i+3]\n",
    "        if len(nameline) > 8 and nameline[7].isalpha():\n",
    "            nameline=nameline.split()\n",
    "            atoms=[]\n",
    "            for j in range(3,len(nameline)):\n",
    "                if j % 2:\n",
    "                    atoms.append(float(nameline[j]))\n",
    "            #nameline=nameline[0]\n",
    "            #names.append(nameline)\n",
    "            stpline=stpline.split()\n",
    "            #stpline=stpline[0],stpline[1],stpline[2]\n",
    "            #stp.append(stpline)\n",
    "            cpline=cpline.split()\n",
    "            #cp.append(cpline)\n",
    "            akline=akline.split()\n",
    "            if len(akline)==8:\n",
    "                completeline=(sum(atoms),stpline[0],stpline[1],stpline[2],cpline[0],cpline[1],cpline[2],cpline[3],akline[0],akline[1],akline[2],akline[3],akline[4],akline[5],akline[6],akline[7])\n",
    "            else:\n",
    "                completeline=(sum(atoms),stpline[0],stpline[1],stpline[2],cpline[0],cpline[1],cpline[2],cpline[3],akline[0],akline[1],akline[2],akline[3],akline[4])   \n",
    "            hpdata.append(completeline)\n",
    "            names.append(nameline[0])\n",
    "            #ak.append(akline)\n",
    "            \n",
    "index = pd.Index(names, name='rows')\n",
    "columns = pd.Index([\"atoms\",\"H0\",\"S0\",\"V0\",\"CpA\",\"CpB\",\"CpC\",\"CpD\",\"alpha0\",\"k0\",\"kprime0\",\"kdprime0\", \"Landau\", \"Tc\", \"Smax\", \"Vmax\"], name='cols')\n",
    "hpdata = pd.DataFrame(hpdata, index=index, columns=columns)"
   ]
  },
  {
   "cell_type": "markdown",
   "metadata": {},
   "source": [
    "Now we should have the Landau parameters in our Pandas dataframe:"
   ]
  },
  {
   "cell_type": "code",
   "execution_count": 3,
   "metadata": {},
   "outputs": [
    {
     "name": "stdout",
     "output_type": "stream",
     "text": [
      "847 0.00495 0.1188\n"
     ]
    }
   ],
   "source": [
    "print(hpdata.loc['q','Tc'],hpdata.loc['q','Smax'],hpdata.loc['q','Vmax'])"
   ]
  },
  {
   "cell_type": "markdown",
   "metadata": {},
   "source": [
    "We can define the functions for the calculations as before:"
   ]
  },
  {
   "cell_type": "code",
   "execution_count": 4,
   "metadata": {},
   "outputs": [],
   "source": [
    "def HtminusH(phase,T):\n",
    "    return float(hpdata.loc[phase,'CpA'])*(T-298.15)+0.5*float(hpdata.loc[phase,'CpB'])*(T*T-298.15*298.15)-float(hpdata.loc[phase,'CpC'])*(1/T-1/298.15)+2*float(hpdata.loc[phase,'CpD'])*(math.sqrt(T)-math.sqrt(298.15))\n",
    "\n",
    "def StminusS(phase,T):\n",
    "    return 1000*(float(hpdata.loc[phase,'CpA'])*math.log(T/298.15)+float(hpdata.loc[phase,'CpB'])*(T-298.15)-0.5*float(hpdata.loc[phase,'CpC'])*(1/(T*T)-1/(298.15*298.15))-2*float(hpdata.loc[phase,'CpD'])*(1/math.sqrt(T)-1/math.sqrt(298.15)))\n",
    "\n",
    "def GTP0(phase,T):\n",
    "    return ((float(hpdata.loc[phase,'H0'])+HtminusH(phase,T))*1000)-(((float(hpdata.loc[phase,'S0']))*1000)+StminusS(phase,T))*T\n",
    "\n",
    "def EOSa(phase,P):\n",
    "     return (1+float(hpdata.loc[phase, 'kprime0']))/((1+float(hpdata.loc[phase, 'kprime0'])+(float(hpdata.loc[phase, 'k0'])*float(hpdata.loc[phase, 'kdprime0']))))\n",
    "\n",
    "def EOSb(phase,P):\n",
    "     return (float(hpdata.loc[phase, 'kprime0'])/float(hpdata.loc[phase, 'k0']))-float(hpdata.loc[phase, 'kdprime0'])/(1+float(hpdata.loc[phase, 'kprime0']))\n",
    "\n",
    "def EOSc(phase,P):\n",
    "     return (1+float(hpdata.loc[phase, 'kprime0'])+float(hpdata.loc[phase, 'k0'])*float(hpdata.loc[phase, 'kdprime0']))/(float(hpdata.loc[phase, 'kprime0'])*float(hpdata.loc[phase, 'kprime0'])+float(hpdata.loc[phase, 'kprime0'])-float(hpdata.loc[phase, 'k0'])*float(hpdata.loc[phase, 'kdprime0']))\n",
    "\n",
    "def Pth(phase,T):\n",
    "    theta=10636/(((float(hpdata.loc[phase, 'S0'])*1000)/float(hpdata.loc[phase, 'atoms']))+6.44)\n",
    "    xi0=(theta/298.15)*(theta/298.15)*math.exp(theta/298.15)/((math.exp(theta/298.15)-1)*(math.exp(theta/298.15)-1))\n",
    "    Pthermal=float(hpdata.loc[phase, 'alpha0'])*float(hpdata.loc[phase, 'k0'])*theta/xi0*(1/(math.exp(theta/T)-1)-1/(math.exp(theta/298.15)-1))\n",
    "    return(Pthermal)\n",
    "\n",
    "def V(phase,P,T):\n",
    "    return float(hpdata.loc[phase, 'V0'])*(1-EOSa(phase,P)*(1-math.pow((1+EOSb(phase,P)*(P-Pth(phase,T))),(-EOSc(phase,P)))))\n",
    "\n",
    "def PVcorr(phase,P,T):\n",
    "    return 1-EOSa(phase,P)+(EOSa(phase,P)*(math.pow((1-EOSb(phase,P)*Pth(phase,T)),(1-EOSc(phase,P)))-math.pow((1+EOSb(phase,P)*(P-Pth(phase,T))),(1-EOSc(phase,P))))/(EOSb(phase,P)*(EOSc(phase,P)-1)*P))\n",
    "\n",
    "def GPTminusGP0T(phase,P,T):\n",
    "    return PVcorr(phase,P,T)*P*float(hpdata.loc[phase, 'V0'])\n",
    "\n",
    "# We will redefine this function to check for Landau\n",
    "\n",
    "#def GPT(phase,P,T):\n",
    "#    return GTP0(phase,T)+GPTminusGP0T(phase,P,T)*1000"
   ]
  },
  {
   "cell_type": "markdown",
   "metadata": {},
   "source": [
    "But we need to have some kind of logic test to check whether we need to use the Landau model for a second order phase transition. We can put this into the function to return G at P,T"
   ]
  },
  {
   "cell_type": "code",
   "execution_count": 5,
   "metadata": {},
   "outputs": [],
   "source": [
    "def GPT(phase,P,T):\n",
    "    if hpdata.loc[phase,'Landau']==\"0\":\n",
    "        return GTP0(phase,T)+GPTminusGP0T(phase,P,T)*1000\n",
    "    else:\n",
    "        return GTP0(phase,T)+GPTminusGP0T(phase,P,T)*1000+Glandau(phase,P,T)"
   ]
  },
  {
   "cell_type": "markdown",
   "metadata": {},
   "source": [
    "Now we need to define a function called Glandau to calculate the Landau contribution to G(P,T) (returned in Joules): "
   ]
  },
  {
   "cell_type": "code",
   "execution_count": 6,
   "metadata": {},
   "outputs": [],
   "source": [
    "def Glandau(phase,P,T):\n",
    "    # retrieve relevant data from dataframe\n",
    "    Tc=float(hpdata.loc[phase,'Tc'])\n",
    "    Vmax=float(hpdata.loc[phase,'Vmax'])\n",
    "    Smax=float(hpdata.loc[phase,'Smax'])\n",
    "    # define T*c in terms of Vmax, Smax and P\n",
    "    Tsc=Tc+(Vmax/Smax)*P\n",
    "    # if T above critical T, Q=0\n",
    "    if T<Tsc:\n",
    "        Q=math.pow(((Tsc-T)/Tc),0.25)\n",
    "    else:\n",
    "        Q=0\n",
    "    Q298=math.pow(((Tc-298.15)/Tc),0.25)\n",
    "    return (Tc*Smax*(Q298**2-(1/3)*Q298**6)-Smax*(Tsc*Q**2-(1/3)*Tc*Q**6)-T*(Smax*(Q298**2-Q**2))+P*(Vmax*Q298**2))*1000"
   ]
  },
  {
   "cell_type": "code",
   "execution_count": 7,
   "metadata": {},
   "outputs": [
    {
     "name": "stdout",
     "output_type": "stream",
     "text": [
      "-1470.73481548565\n"
     ]
    }
   ],
   "source": [
    "print(Glandau('q',10,1273.15))"
   ]
  },
  {
   "cell_type": "code",
   "execution_count": 8,
   "metadata": {},
   "outputs": [
    {
     "name": "stdout",
     "output_type": "stream",
     "text": [
      "-968916.188441936\n"
     ]
    }
   ],
   "source": [
    "print(GPT('q',20,1273.15))"
   ]
  },
  {
   "cell_type": "markdown",
   "metadata": {},
   "source": [
    "Take univariant seek function from before:"
   ]
  },
  {
   "cell_type": "code",
   "execution_count": 9,
   "metadata": {},
   "outputs": [],
   "source": [
    "def univariantPseek(Pguess,T,phase1,phase2):\n",
    "    def univariantPcalc(P,T,phase1,phase2):\n",
    "        return GPT(phase1,P,T)-GPT(phase2,P,T)\n",
    "    return optimize.newton(univariantPcalc, x0=Pguess, args=(T, phase1, phase2))"
   ]
  },
  {
   "cell_type": "code",
   "execution_count": 10,
   "metadata": {
    "scrolled": true
   },
   "outputs": [
    {
     "name": "stdout",
     "output_type": "stream",
     "text": [
      "Ptr q=coe at 1273.15 K: 30.614123550859667 kbar\n"
     ]
    }
   ],
   "source": [
    "print('Ptr q=coe at 1273.15 K:', univariantPseek(40,1273.15,'q','coe'),'kbar')"
   ]
  },
  {
   "cell_type": "markdown",
   "metadata": {},
   "source": [
    "This is within the bracket (30.6-30.9 kbar) from Bose & Ganguly (1995). We can use a for loop to find model values for the pressure of the quartz=coesite transition at intervals of 10 °C over the temperature range investigated experimentally by Bose & Ganguly, and compare this to their linear fit of the boundary (P(kbar)=21.945+0.006901*T(K))."
   ]
  },
  {
   "cell_type": "code",
   "execution_count": 11,
   "metadata": {
    "scrolled": true
   },
   "outputs": [
    {
     "data": {
      "image/png": "[encoded data removed]",
      "text/plain": [
       "<Figure size 432x288 with 1 Axes>"
      ]
     },
     "metadata": {},
     "output_type": "display_data"
    }
   ],
   "source": [
    "Trange=np.arange(500,1200,10)\n",
    "TrangeK=Trange+273.15\n",
    "\n",
    "modelPcurve=[]\n",
    "bgPcurve=[]\n",
    "\n",
    "for i in range(0,len(TrangeK)):\n",
    "    modelPcurve.append(univariantPseek(30,TrangeK[i],'q','coe'))\n",
    "    bgPcurve.append(21.945+0.006901*TrangeK[i])\n",
    "    \n",
    "plt.plot(Trange,modelPcurve,'b-',label=\"This model\")\n",
    "plt.plot(Trange,bgPcurve,'r--', label=\"Bose & Ganguly (1995)\")\n",
    "plt.xlabel('Temperature (°C)')\n",
    "plt.ylabel('Pressure (kbar)')\n",
    "plt.title('Quartz=coesite phase boundary')\n",
    "plt.legend()\n",
    "plt.show()"
   ]
  },
  {
   "cell_type": "code",
   "execution_count": null,
   "metadata": {},
   "outputs": [],
   "source": []
  }
 ],
 "metadata": {
  "kernelspec": {
   "display_name": "Python 3",
   "language": "python",
   "name": "python3"
  },
  "language_info": {
   "codemirror_mode": {
    "name": "ipython",
    "version": 3
   },
   "file_extension": ".py",
   "mimetype": "text/x-python",
   "name": "python",
   "nbconvert_exporter": "python",
   "pygments_lexer": "ipython3",
   "version": "3.6.4"
  }
 },
 "nbformat": 4,
 "nbformat_minor": 2
}
