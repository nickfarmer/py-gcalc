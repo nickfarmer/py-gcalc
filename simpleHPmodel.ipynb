{
 "cells": [
  {
   "cell_type": "markdown",
   "metadata": {},
   "source": [
    "Simple implementation of the Holland & Powell (2011) model. We will need pandas and math."
   ]
  },
  {
   "cell_type": "code",
   "execution_count": 1,
   "metadata": {},
   "outputs": [],
   "source": [
    "import pandas as pd\n",
    "import math\n",
    "import scipy.optimize as optimize\n",
    "import timeit"
   ]
  },
  {
   "cell_type": "markdown",
   "metadata": {},
   "source": [
    "Read in data from Holland & Powell dataset (latest ds61 version, older ds5x version have a slightly different format). First tell the program where to find the dataset:"
   ]
  },
  {
   "cell_type": "code",
   "execution_count": 2,
   "metadata": {},
   "outputs": [],
   "source": [
    "filename=\"/home/nick/tc340/mac-version 4/tc-ds62.txt\""
   ]
  },
  {
   "cell_type": "markdown",
   "metadata": {},
   "source": [
    "Now iterate through the file and populate a pandas dataframe with the parameters we need for the calculations:"
   ]
  },
  {
   "cell_type": "code",
   "execution_count": 3,
   "metadata": {},
   "outputs": [],
   "source": [
    "hpdata=[]\n",
    "alldata=[]\n",
    "names=[]\n",
    "atoms=[]\n",
    "\n",
    "with open(filename) as datafile:\n",
    "    lines=datafile.readlines()\n",
    "    for i in range(0, len(lines)-3):\n",
    "        nameline=lines[i]\n",
    "        stpline=lines[i+1]\n",
    "        cpline=lines[i+2]\n",
    "        akline=lines[i+3]\n",
    "        if len(nameline) > 8 and nameline[7].isalpha():\n",
    "            nameline=nameline.split()\n",
    "            atoms=[]\n",
    "            for j in range(3,len(nameline)):\n",
    "                if j % 2:\n",
    "                    atoms.append(float(nameline[j]))\n",
    "            #nameline=nameline[0]\n",
    "            #names.append(nameline)\n",
    "            stpline=stpline.split()\n",
    "            #stpline=stpline[0],stpline[1],stpline[2]\n",
    "            #stp.append(stpline)\n",
    "            cpline=cpline.split()\n",
    "            #cp.append(cpline)\n",
    "            akline=akline.split()\n",
    "            completeline=(stpline[0],stpline[1],stpline[2],cpline[0],cpline[1],cpline[2],cpline[3],akline[0],akline[1],akline[2],akline[3],akline[4],sum(atoms))\n",
    "            hpdata.append(completeline)\n",
    "            names.append(nameline[0])\n",
    "            #ak.append(akline)\n",
    "            \n",
    "index = pd.Index(names, name='rows')\n",
    "columns = pd.Index([\"H0\",\"S0\",\"V0\",\"CpA\",\"CpB\",\"CpC\",\"CpD\",\"alpha0\",\"k0\",\"kprime0\",\"kdprime0\", \"Landau\", \"atoms\"], name='cols')\n",
    "hpdata = pd.DataFrame(hpdata, index=index, columns=columns)"
   ]
  },
  {
   "cell_type": "markdown",
   "metadata": {},
   "source": [
    "The relevant parts of the dataset are now in a pandas dataframe called \"hpdata\", in rows labelled with the abbreviated phase name, and columns with sensible labels. This means that we can call up values such as the bulk modulus in forsterite with a simple command such as: "
   ]
  },
  {
   "cell_type": "code",
   "execution_count": 4,
   "metadata": {},
   "outputs": [
    {
     "name": "stdout",
     "output_type": "stream",
     "text": [
      "-952.15\n"
     ]
    }
   ],
   "source": [
    "print(float(hpdata.loc['q','H0'])-1000*float(hpdata.loc['q','S0']))"
   ]
  },
  {
   "cell_type": "markdown",
   "metadata": {},
   "source": [
    "The next step is to define some functions that will do the calculations. This is analogous to the formulae in the cells of an Excel spreadsheet. First a function to calculate HT-H (as in the contribution of temperature to enthalpy at T, 1 bar), ST-S, and then G(T,1 bar)."
   ]
  },
  {
   "cell_type": "code",
   "execution_count": 5,
   "metadata": {},
   "outputs": [],
   "source": [
    "def HtminusH(phase,T):\n",
    "    return float(hpdata.loc[phase,'CpA'])*(T-298.15)+0.5*float(hpdata.loc[phase,'CpB'])*(T*T-298.15*298.15)-float(hpdata.loc[phase,'CpC'])*(1/T-1/298.15)+2*float(hpdata.loc[phase,'CpD'])*(math.sqrt(T)-math.sqrt(298.15))\n",
    "\n",
    "def StminusS(phase,T):\n",
    "    return 1000*(float(hpdata.loc[phase,'CpA'])*math.log(T/298.15)+float(hpdata.loc[phase,'CpB'])*(T-298.15)-0.5*float(hpdata.loc[phase,'CpC'])*(1/(T*T)-1/(298.15*298.15))-2*float(hpdata.loc[phase,'CpD'])*(1/math.sqrt(T)-1/math.sqrt(298.15)))\n",
    "\n",
    "def GTP0(phase,T):\n",
    "    return ((float(hpdata.loc[phase,'H0'])+HtminusH(phase,T))*1000)-(((float(hpdata.loc[phase,'S0']))*1000)+StminusS(phase,T))*T\n",
    "\n",
    "def EOSa(phase,P):\n",
    "     return (1+float(hpdata.loc[phase, 'kprime0']))/((1+float(hpdata.loc[phase, 'kprime0'])+(float(hpdata.loc[phase, 'k0'])*float(hpdata.loc[phase, 'kdprime0']))))\n",
    "\n",
    "def EOSb(phase,P):\n",
    "     return (float(hpdata.loc[phase, 'kprime0'])/float(hpdata.loc[phase, 'k0']))-float(hpdata.loc[phase, 'kdprime0'])/(1+float(hpdata.loc[phase, 'kprime0']))\n",
    "\n",
    "def EOSc(phase,P):\n",
    "     return (1+float(hpdata.loc[phase, 'kprime0'])+float(hpdata.loc[phase, 'k0'])*float(hpdata.loc[phase, 'kdprime0']))/(float(hpdata.loc[phase, 'kprime0'])*float(hpdata.loc[phase, 'kprime0'])+float(hpdata.loc[phase, 'kprime0'])-float(hpdata.loc[phase, 'k0'])*float(hpdata.loc[phase, 'kdprime0']))\n",
    "\n",
    "def Pth(phase,T):\n",
    "    theta=10636/(((float(hpdata.loc[phase, 'S0'])*1000)/float(hpdata.loc[phase, 'atoms']))+6.44)\n",
    "    xi0=(theta/298.15)*(theta/298.15)*math.exp(theta/298.15)/((math.exp(theta/298.15)-1)*(math.exp(theta/298.15)-1))\n",
    "    Pthermal=float(hpdata.loc[phase, 'alpha0'])*float(hpdata.loc[phase, 'k0'])*theta/xi0*(1/(math.exp(theta/T)-1)-1/(math.exp(theta/298.15)-1))\n",
    "    return(Pthermal)\n",
    "\n",
    "def V(phase,P,T):\n",
    "    return float(hpdata.loc[phase, 'V0'])*(1-EOSa(phase,P)*(1-math.pow((1+EOSb(phase,P)*(P-Pth(phase,T))),(-EOSc(phase,P)))))\n",
    "\n",
    "def PVcorr(phase,P,T):\n",
    "    return 1-EOSa(phase,P)+(EOSa(phase,P)*(math.pow((1-EOSb(phase,P)*Pth(phase,T)),(1-EOSc(phase,P)))-math.pow((1+EOSb(phase,P)*(P-Pth(phase,T))),(1-EOSc(phase,P))))/(EOSb(phase,P)*(EOSc(phase,P)-1)*P))\n",
    "\n",
    "def GPTminusGP0T(phase,P,T):\n",
    "    return PVcorr(phase,P,T)*P*float(hpdata.loc[phase, 'V0'])\n",
    "\n",
    "def GPT(phase,P,T):\n",
    "    return GTP0(phase,T)+GPTminusGP0T(phase,P,T)*1000"
   ]
  },
  {
   "cell_type": "markdown",
   "metadata": {},
   "source": [
    "G for any phase at conditions P,T can now be easily calculated by calling these functions:"
   ]
  },
  {
   "cell_type": "code",
   "execution_count": 6,
   "metadata": {
    "scrolled": true
   },
   "outputs": [
    {
     "name": "stdout",
     "output_type": "stream",
     "text": [
      "-1017238.8248047617\n",
      "-923072.3545\n"
     ]
    }
   ],
   "source": [
    "print(GPT('q',30,1773.15))\n",
    "print(GTP0('q',298.15))"
   ]
  },
  {
   "cell_type": "markdown",
   "metadata": {},
   "source": [
    "We can use this to find out whether the products or reactants of a reaction will be the equilibrium assemblage at a given P,T."
   ]
  },
  {
   "cell_type": "markdown",
   "metadata": {},
   "source": [
    "Simple example: kyanite=sillimanite=andalusite at 550 °C, 4 kbar."
   ]
  },
  {
   "cell_type": "code",
   "execution_count": 7,
   "metadata": {},
   "outputs": [
    {
     "name": "stdout",
     "output_type": "stream",
     "text": [
      "Kyanite: -2691258.325361273\n",
      "Andalusite: -2691610.170193039\n",
      "Sillimanite: -2691570.863185545\n"
     ]
    }
   ],
   "source": [
    "T=550+273.15 # temperature in Kelvin\n",
    "P=4 # H&P dataset is in kbar rather than GPa\n",
    "\n",
    "print('Kyanite:', GPT('ky',P,T))\n",
    "print('Andalusite:', GPT('and',P,T))\n",
    "print('Sillimanite:', GPT('sill',P,T))"
   ]
  },
  {
   "cell_type": "markdown",
   "metadata": {},
   "source": [
    "Because this P,T is close to the the invariant triple point at which all of the polymorphs are stable, these values for G(P,T) are close together. The minimum value is that for kyanite, indicating that these conditions are in the kyanite stability field."
   ]
  },
  {
   "cell_type": "markdown",
   "metadata": {},
   "source": [
    "This can be used to find univariant points, ie. phase boundaries if P or T is fixed. We can try this with the kyanite=andalusite boundary at 550 °C."
   ]
  },
  {
   "cell_type": "code",
   "execution_count": 8,
   "metadata": {},
   "outputs": [],
   "source": [
    "T=550+273.15 # T in K\n",
    "\n",
    "# define a function that takes only the variable we are interested in that will calculate DeltaG across the reaction.\n",
    "def andkycalc(P):\n",
    "    return GPT('ky',P, 550+273)-GPT('and',P,550+273)"
   ]
  },
  {
   "cell_type": "markdown",
   "metadata": {},
   "source": [
    "Quick test to find DeltaG at 5 kbar:"
   ]
  },
  {
   "cell_type": "code",
   "execution_count": 9,
   "metadata": {},
   "outputs": [
    {
     "data": {
      "text/plain": [
       "-389.212613188196"
      ]
     },
     "execution_count": 9,
     "metadata": {},
     "output_type": "execute_result"
    }
   ],
   "source": [
    "andkycalc(5)"
   ]
  },
  {
   "cell_type": "markdown",
   "metadata": {},
   "source": [
    "We can use the Newton-Raphson to find the zero point for the and=ky function, giving a nearby starting point."
   ]
  },
  {
   "cell_type": "code",
   "execution_count": 10,
   "metadata": {},
   "outputs": [
    {
     "data": {
      "text/plain": [
       "4.473662260185149"
      ]
     },
     "execution_count": 10,
     "metadata": {},
     "output_type": "execute_result"
    }
   ],
   "source": [
    "optimize.newton(andkycalc, x0=5)"
   ]
  },
  {
   "cell_type": "markdown",
   "metadata": {},
   "source": [
    "We can wrap this up in a function that takes the name of the phase on either side of the reaction, temperature and a pressure guess:"
   ]
  },
  {
   "cell_type": "code",
   "execution_count": 13,
   "metadata": {},
   "outputs": [],
   "source": [
    "def univariantPseek(Pguess,T,phase1,phase2):\n",
    "    def univariantPcalc(P,T,phase1,phase2):\n",
    "        return GPT(phase1,P,T)-GPT(phase2,P,T)\n",
    "    return optimize.newton(univariantPcalc, x0=Pguess, args=(T, phase1, phase2))"
   ]
  },
  {
   "cell_type": "code",
   "execution_count": 14,
   "metadata": {},
   "outputs": [
    {
     "name": "stdout",
     "output_type": "stream",
     "text": [
      "Ptr ky=and at 773 K: 3.8576879334653964 kbar\n"
     ]
    }
   ],
   "source": [
    "print('Ptr ky=and at 773 K:', univariantPseek(5,773,'ky','and'), 'kbar')"
   ]
  },
  {
   "cell_type": "markdown",
   "metadata": {},
   "source": [
    "To use this for reactions involving quartz, we will need to add in Landau order-disorder, to model the second-order alpha=beta transition. Without this, the calculations are not particularly useful. Eg:"
   ]
  },
  {
   "cell_type": "code",
   "execution_count": 15,
   "metadata": {},
   "outputs": [
    {
     "name": "stdout",
     "output_type": "stream",
     "text": [
      "Ptr q=coe at 1273.15 K: 29.87599699587954 kbar\n"
     ]
    }
   ],
   "source": [
    "print('Ptr q=coe at 1273.15 K:', univariantPseek(30,1273.15,'q','coe'),'kbar')"
   ]
  },
  {
   "cell_type": "markdown",
   "metadata": {},
   "source": [
    "Bose & Ganguly (1995) bracketed Ptr q=coe at 1073K betwee 30.6 and 30.9 kbar, so this is out by ~1 kbar."
   ]
  },
  {
   "cell_type": "markdown",
   "metadata": {},
   "source": [
    "We can also define a function to find Ttr at given P:"
   ]
  },
  {
   "cell_type": "code",
   "execution_count": null,
   "metadata": {},
   "outputs": [],
   "source": [
    "def univariantTseek(Tguess,P,phase1,phase2):\n",
    "    def univariantTcalc(T,P,phase1,phase2):\n",
    "        return GPT(phase1,P,T)-GPT(phase2,P,T)\n",
    "    return optimize.newton(univariantTcalc, x0=Tguess, args=(P, phase1, phase2))\n",
    "\n",
    "# check this with ky=sill at 7 kbar.\n",
    "print('Ttr ky=sill at 7 kbar:', univariantTseek(900,7,'ky','sill')-273.15, '°C')"
   ]
  },
  {
   "cell_type": "markdown",
   "metadata": {},
   "source": [
    "Define a function to find pressure and temperature of an invariant point at which 3 phases are present (eg. ky=and=sill). This will contain a calculation function that takes pressure and temperature as an array."
   ]
  },
  {
   "cell_type": "code",
   "execution_count": null,
   "metadata": {},
   "outputs": [],
   "source": [
    "def invariantPTseek(PTguess,phase1,phase2,phase3):\n",
    "    def invariantPTsumsq(PTguess,phase1,phase2,phase3):\n",
    "        P,T=PTguess\n",
    "        eq1=GPT(phase1,P,T)-GPT(phase2,P,T)\n",
    "        eq2=GPT(phase2,P,T)-GPT(phase3,P,T)\n",
    "        eq3=GPT(phase1,P,T)-GPT(phase3,P,T)\n",
    "        return eq1*eq1+eq2*eq2+eq3*eq3\n",
    "    return optimize.minimize(invariantPTsumsq, PTguess, args=(phase1, phase2, phase3), method='Nelder-Mead')"
   ]
  },
  {
   "cell_type": "code",
   "execution_count": null,
   "metadata": {},
   "outputs": [],
   "source": [
    "invariantPTseek([5,500],'ky','and','sill')"
   ]
  },
  {
   "cell_type": "markdown",
   "metadata": {},
   "source": [
    "Let's see how long this takes:"
   ]
  },
  {
   "cell_type": "code",
   "execution_count": null,
   "metadata": {},
   "outputs": [],
   "source": [
    "%time pt=invariantPTseek([5,500],'ky','and','sill')\n",
    "\n",
    "print(\"Univariant point at\", pt.x[0], \"kbar\", pt.x[1]-273, \"°C\")"
   ]
  },
  {
   "cell_type": "code",
   "execution_count": null,
   "metadata": {},
   "outputs": [],
   "source": [
    "print(HtminusH('fo',1373))\n",
    "print(StminusS('fo',1373))\n",
    "print(GTP0('fo',1373))\n",
    "print(Pth('fo',1373))\n",
    "print(V('fo',10,1373))"
   ]
  },
  {
   "cell_type": "code",
   "execution_count": null,
   "metadata": {},
   "outputs": [],
   "source": []
  }
 ],
 "metadata": {
  "kernelspec": {
   "display_name": "Python 3",
   "language": "python",
   "name": "python3"
  },
  "language_info": {
   "codemirror_mode": {
    "name": "ipython",
    "version": 3
   },
   "file_extension": ".py",
   "mimetype": "text/x-python",
   "name": "python",
   "nbconvert_exporter": "python",
   "pygments_lexer": "ipython3",
   "version": "3.6.4"
  }
 },
 "nbformat": 4,
 "nbformat_minor": 2
}
